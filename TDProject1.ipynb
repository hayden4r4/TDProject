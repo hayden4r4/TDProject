{
 "cells": [
  {
   "cell_type": "markdown",
   "metadata": {},
   "source": [
    "# __Portfolio Analysis Using TDAmeritrade API__"
   ]
  },
  {
   "cell_type": "markdown",
   "metadata": {},
   "source": [
    "_Importing Packages and Setting Seaborn_"
   ]
  },
  {
   "cell_type": "code",
   "execution_count": 1,
   "metadata": {},
   "outputs": [],
   "source": [
    "%load_ext autoreload\n",
    "%autoreload 2\n",
    "%reload_ext autoreload"
   ]
  },
  {
   "cell_type": "code",
   "execution_count": 50,
   "metadata": {},
   "outputs": [],
   "source": [
    "import TDkit as kit\n",
    "from td.client import TDClient\n",
    "import matplotlib.pyplot as plt\n",
    "import seaborn as sns\n",
    "import pandas as pd\n",
    "import numpy as np\n",
    "import quandl as ql\n",
    "import os\n",
    "import edhec_risk_kit as erk\n",
    "import datetime\n",
    "import operator\n",
    "from fredapi import Fred\n",
    "sns.set(style='whitegrid', font_scale=1.5)"
   ]
  },
  {
   "cell_type": "markdown",
   "metadata": {},
   "source": [
    "_Logging in to the TDAmeritrade API_"
   ]
  },
  {
   "cell_type": "code",
   "execution_count": 3,
   "metadata": {},
   "outputs": [],
   "source": [
    "kit.login()"
   ]
  },
  {
   "cell_type": "markdown",
   "metadata": {},
   "source": [
    "_Pulling Historical Risk-Free Rates Using 10-Yr U.S. Treasury Bond Yield Using Quandl API \n",
    "and Calculating Mean Risk-Free Rate of the Specified Time Frame_"
   ]
  },
  {
   "cell_type": "code",
   "execution_count": 64,
   "metadata": {},
   "outputs": [],
   "source": [
    "riskfree_rate=kit.ql_rf(15)\n",
    "mean_riskfree_rate=pd.DataFrame.mean(riskfree_rate)"
   ]
  },
  {
   "cell_type": "markdown",
   "metadata": {},
   "source": [
    "_Pulling Closing Price Data from TDAmeritrade API and Creating DataFrame_"
   ]
  },
  {
   "cell_type": "code",
   "execution_count": 14,
   "metadata": {},
   "outputs": [],
   "source": [
    "Port_holdings=kit.Port_consol(kit.Ticker_List, 5)"
   ]
  },
  {
   "cell_type": "markdown",
   "metadata": {},
   "source": [
    "_Calculating Percentage Change_"
   ]
  },
  {
   "cell_type": "code",
   "execution_count": 15,
   "metadata": {},
   "outputs": [],
   "source": [
    "Port_pct=Port_holdings.pct_change()\n",
    "Port_pct=Port_pct[1:]"
   ]
  },
  {
   "cell_type": "markdown",
   "metadata": {},
   "source": [
    "_Computing Both Covariance and Correlation Matrix for Portolio_"
   ]
  },
  {
   "cell_type": "code",
   "execution_count": 16,
   "metadata": {},
   "outputs": [],
   "source": [
    "Port_cov=Port_pct.cov()\n",
    "Port_corr=Port_pct.corr()"
   ]
  },
  {
   "cell_type": "markdown",
   "metadata": {},
   "source": [
    "_Setting Current Portfolio Weights_"
   ]
  },
  {
   "cell_type": "code",
   "execution_count": 17,
   "metadata": {},
   "outputs": [],
   "source": [
    "Weighted_port=kit.weights*Port_pct"
   ]
  },
  {
   "cell_type": "markdown",
   "metadata": {},
   "source": [
    "_Calculating Exponential Moving Averages for Each Stock in Portfolio_"
   ]
  },
  {
   "cell_type": "code",
   "execution_count": 18,
   "metadata": {},
   "outputs": [],
   "source": [
    "Port_ema=Port_holdings.ewm(span=15, adjust=False).mean()"
   ]
  },
  {
   "cell_type": "markdown",
   "metadata": {},
   "source": [
    "_Annualizing Returns for Portfolio & SPY_\n",
    "\n",
    "_SPY Will be Used as Benchmark_"
   ]
  },
  {
   "cell_type": "code",
   "execution_count": 93,
   "metadata": {},
   "outputs": [],
   "source": [
    "Wt_Port_holdings_ann=kit.Port_holdings_ann(Weighted_port, 5)\n",
    "Wt_Port_ann=Port_holdings_ann.sum(axis=1)\n",
    "Port_holdings_ann_series=Port_holdings_ann.iloc[0]\n",
    "SPY_ann=Port_holdings_ann['SPY']"
   ]
  },
  {
   "cell_type": "markdown",
   "metadata": {},
   "source": [
    "_Calculating Risk Measures for Portfolio Holdings & SPY_"
   ]
  },
  {
   "cell_type": "code",
   "execution_count": 92,
   "metadata": {},
   "outputs": [],
   "source": [
    "Wt_Port_holdings_ann_vol=kit.Port_holdings_ann_vol(Weighted_port, 5)\n",
    "Wt_Port_ann_vol=Port_holdings_ann_vol.sum(axis=1)\n",
    "SPY_ann_vol=Port_holdings_ann_vol['SPY']"
   ]
  },
  {
   "cell_type": "code",
   "execution_count": null,
   "metadata": {},
   "outputs": [],
   "source": []
  },
  {
   "cell_type": "code",
   "execution_count": 96,
   "metadata": {},
   "outputs": [],
   "source": [
    "Port_holdings_ann=kit.Port_holdings_ann(Port_pct, 5)\n",
    "Port_holdings_ann_series=Port_holdings_ann.iloc[0]"
   ]
  },
  {
   "cell_type": "code",
   "execution_count": 97,
   "metadata": {},
   "outputs": [
    {
     "data": {
      "image/png": "[encoded data removed]",
      "text/plain": [
       "<Figure size 432x288 with 1 Axes>"
      ]
     },
     "metadata": {},
     "output_type": "display_data"
    }
   ],
   "source": [
    "ef=kit.plot_ef(100, er=Port_holdings_ann_series, cov=Port_cov, riskfree_rate=mean_riskfree_rate, show_cml=True, show_ew=True, show_gmv=True)"
   ]
  },
  {
   "cell_type": "code",
   "execution_count": null,
   "metadata": {},
   "outputs": [],
   "source": []
  }
 ],
 "metadata": {
  "kernelspec": {
   "display_name": "Python 3",
   "language": "python",
   "name": "python3"
  },
  "language_info": {
   "codemirror_mode": {
    "name": "ipython",
    "version": 3
   },
   "file_extension": ".py",
   "mimetype": "text/x-python",
   "name": "python",
   "nbconvert_exporter": "python",
   "pygments_lexer": "ipython3",
   "version": "3.7.7"
  }
 },
 "nbformat": 4,
 "nbformat_minor": 4
}
